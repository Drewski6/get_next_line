{
 "cells": [
  {
   "cell_type": "markdown",
   "metadata": {},
   "source": [
    "# GET NEXT LINE\n",
    "- Can use read, malloc, and free"
   ]
  },
  {
   "cell_type": "markdown",
   "metadata": {},
   "source": [
    "### Notes\n",
    "- Currently doesnt work with changing buffer size.\n",
    "- Leaks memory out the ass...\n",
    "- Does not conform at all with the norm.\n",
    "- Thoughts:\n",
    "\t- Should look at rearranging make_ret so that the beginning searches the buffer from offset to next \\n\n",
    "\t- I didnt make the function with this in mind, but in most cases the buffer will contain many possible strings and should be the first thing searched.\n",
    "\t- right now I have the idea of the buffer is going to be smaller than the line so get many chunks. But I think assuming a large buffer would be better. Like this I can design it so it searches within it's self first. Like all good philosophers should."
   ]
  },
  {
   "cell_type": "code",
   "execution_count": null,
   "metadata": {},
   "outputs": [],
   "source": [
    "check size_t and ssize_t with read!!!!!!!!!!!!"
   ]
  },
  {
   "cell_type": "markdown",
   "metadata": {},
   "source": [
    "## get_next_line.h"
   ]
  },
  {
   "cell_type": "code",
   "execution_count": 173,
   "metadata": {},
   "outputs": [
    {
     "name": "stdout",
     "output_type": "stream",
     "text": [
      "Overwriting ../gnl_working/get_next_line.h\n"
     ]
    }
   ],
   "source": [
    "%%file ../gnl_working/get_next_line.h\n",
    "/* ************************************************************************** */\n",
    "/*                                                                            */\n",
    "/*                                                        :::      ::::::::   */\n",
    "/*   get_next_line.h                                    :+:      :+:    :+:   */\n",
    "/*                                                    +:+ +:+         +:+     */\n",
    "/*   By: dpentlan <dpentlan@student.42.fr>          +#+  +:+       +#+        */\n",
    "/*                                                +#+#+#+#+#+   +#+           */\n",
    "/*   Created: 2022/12/01 13:53:29 by dpentlan          #+#    #+#             */\n",
    "/*   Updated: 2022/12/01 13:53:32 by dpentlan         ###   ########.fr       */\n",
    "/*                                                                            */\n",
    "/* ************************************************************************** */\n",
    "\n",
    "#ifndef GET_NEXT_LINE_H\n",
    "# define GET_NEXT_LINE_H\n",
    "# ifndef BUFFER_SIZE\n",
    "#  define BUFFER_SIZE 1024\n",
    "# endif\n",
    "# include <stdlib.h>\n",
    "# include <unistd.h>\n",
    "# include <stdint.h>\n",
    "\n",
    "char\t*get_next_line(int fd);\n",
    "void\t*ft_calloc_gnl(size_t num_elem, size_t elem_size);\n",
    "int\t\tmake_ret_gnl(int fd, char **ret, char *buf, size_t buf_size);\n",
    "\n",
    "#endif"
   ]
  },
  {
   "cell_type": "markdown",
   "metadata": {},
   "source": [
    "## ~M~A~N~D~A~T~O~R~Y~"
   ]
  },
  {
   "cell_type": "markdown",
   "metadata": {},
   "source": [
    "### get_next_line.c"
   ]
  },
  {
   "cell_type": "code",
   "execution_count": 186,
   "metadata": {},
   "outputs": [
    {
     "name": "stdout",
     "output_type": "stream",
     "text": [
      "Overwriting ../gnl_working/get_next_line.c\n"
     ]
    }
   ],
   "source": [
    "%%file ../gnl_working/get_next_line.c\n",
    "/* ************************************************************************** */\n",
    "/*                                                                            */\n",
    "/*                                                        :::      ::::::::   */\n",
    "/*   get_next_line.c                                    :+:      :+:    :+:   */\n",
    "/*                                                    +:+ +:+         +:+     */\n",
    "/*   By: dpentlan <dpentlan@student.42.fr>          +#+  +:+       +#+        */\n",
    "/*                                                +#+#+#+#+#+   +#+           */\n",
    "/*   Created: 2022/12/01 13:53:18 by dpentlan          #+#    #+#             */\n",
    "/*   Updated: 2022/12/01 13:53:23 by dpentlan         ###   ########.fr       */\n",
    "/*                                                                            */\n",
    "/* ************************************************************************** */\n",
    "\n",
    "#include \"get_next_line.h\"\n",
    "\n",
    "char\t*get_next_line(int fd)\n",
    "{\n",
    "\tchar\t\t\t*buf;\n",
    "\tchar\t\t\t*ret;\n",
    "\tstatic int\t\tfd_table[1024];\n",
    "\tsize_t\t\t\tbuf_size;\n",
    "\n",
    "\tbuf_size = 1024;\n",
    "\tif (buf_size > BUFFER_SIZE)\n",
    "\t\tbuf_size = BUFFER_SIZE;\n",
    "\tret = 0;\n",
    "\tbuf = (char *)ft_calloc_gnl((buf_size + 1), sizeof(char));\n",
    "\tif (!buf)\n",
    "\t\treturn (0);\n",
    "\tfd_table[fd] = make_ret_gnl(fd, &ret, buf, buf_size);\n",
    "\tfree(buf);\n",
    "\tif (fd_table[fd] == -1)\n",
    "\t\treturn (0);\n",
    "\tif (!ret)\n",
    "\t\treturn (0);\n",
    "\treturn (ret);\n",
    "}\n"
   ]
  },
  {
   "cell_type": "markdown",
   "metadata": {},
   "source": [
    "### get_next_line_utils.c"
   ]
  },
  {
   "cell_type": "code",
   "execution_count": 232,
   "metadata": {},
   "outputs": [
    {
     "name": "stdout",
     "output_type": "stream",
     "text": [
      "Overwriting ../gnl_working/get_next_line_utils.c\n"
     ]
    }
   ],
   "source": [
    "%%file ../gnl_working/get_next_line_utils.c\n",
    "/* ************************************************************************** */\n",
    "/*                                                                            */\n",
    "/*                                                        :::      ::::::::   */\n",
    "/*   get_next_line_utils.c                              :+:      :+:    :+:   */\n",
    "/*                                                    +:+ +:+         +:+     */\n",
    "/*   By: dpentlan <dpentlan@student.42.fr>          +#+  +:+       +#+        */\n",
    "/*                                                +#+#+#+#+#+   +#+           */\n",
    "/*   Created: 2022/12/01 13:53:38 by dpentlan          #+#    #+#             */\n",
    "/*   Updated: 2022/12/01 13:53:41 by dpentlan         ###   ########.fr       */\n",
    "/*                                                                            */\n",
    "/* ************************************************************************** */\n",
    "\n",
    "#include \"get_next_line.h\"\n",
    "\n",
    "void\t*ft_calloc_gnl(size_t num_elem, size_t elem_size)\n",
    "{\n",
    "\tvoid\t*ptr;\n",
    "\tsize_t\ti;\n",
    "\n",
    "\tif (num_elem == 0 || elem_size == 0)\n",
    "\t{\n",
    "\t\tnum_elem = 1;\n",
    "\t\telem_size = 1;\n",
    "\t}\n",
    "\tif (num_elem >= SIZE_MAX || elem_size >= SIZE_MAX)\n",
    "\t\treturn (0);\n",
    "\tptr = malloc(num_elem * elem_size);\n",
    "\tif (ptr)\n",
    "\t{\n",
    "\t\ti = 0;\n",
    "\t\twhile (i < (num_elem * elem_size))\n",
    "\t\t{\n",
    "\t\t\t*(char *)(ptr + i) = 0;\n",
    "\t\t\ti++;\n",
    "\t\t}\n",
    "\t}\n",
    "\treturn (ptr);\n",
    "}\n",
    "\n",
    "static size_t\tft_strlcat_gnl(char *dest, const char *src, size_t size)\n",
    "{\n",
    "\tsize_t\tdest_len;\n",
    "\tsize_t\tsrc_len;\n",
    "\tsize_t\ti;\n",
    "\n",
    "\tdest_len = 0U;\n",
    "\tsrc_len = 0U;\n",
    "\ti = 0U;\n",
    "\tif (src == 0 || dest == 0)\n",
    "\t\treturn (0);\n",
    "\twhile (dest[dest_len] != '\\0')\n",
    "\t\tdest_len++;\n",
    "\twhile (src[src_len] != '\\0')\n",
    "\t\tsrc_len++;\n",
    "\tif (size == 0)\n",
    "\t\treturn (src_len);\n",
    "\twhile (src[i] != '\\0' && i < size)\n",
    "\t{\n",
    "\t\tdest[dest_len + i] = src[i];\n",
    "\t\ti++;\n",
    "\t}\n",
    "\tdest[dest_len + i] = '\\0';\n",
    "\tif (dest_len > size)\n",
    "\t\treturn (src_len + size);\n",
    "\treturn (dest_len + src_len);\n",
    "}\n",
    "\n",
    "static char\t*ft_strdup_gnl(const char *src, ssize_t r_size)\n",
    "{\n",
    "\tchar\t\t*str_ret;\n",
    "\tsize_t\t\tsrc_len;\n",
    "\tsize_t\t\ti;\n",
    "\tsize_t\t\tread_size;\n",
    "\n",
    "\tread_size = (size_t)r_size;\n",
    "\ti = 0;\n",
    "\tsrc_len = 0;\n",
    "\tif (!src)\n",
    "\t{\n",
    "\t\tstr_ret = (char *)ft_calloc_gnl(read_size + 1, sizeof(char));\n",
    "\t\tif (!str_ret)\n",
    "\t\t\treturn (0);\n",
    "\t\treturn (str_ret);\n",
    "\t}\n",
    "\twhile (src[src_len])\n",
    "\t\tsrc_len++;\n",
    "\tstr_ret = (char *)ft_calloc_gnl((src_len + read_size + 1), sizeof(char));\n",
    "\tif (!str_ret)\n",
    "\t\treturn (0);\n",
    "\ti = 0;\n",
    "\twhile (src[i])\n",
    "\t{\n",
    "\t\tstr_ret[i] = src[i];\n",
    "\t\ti++;\n",
    "\t}\n",
    "\tstr_ret[i] = 0;\n",
    "\treturn (str_ret);\n",
    "}\n",
    "\n",
    "static size_t\tfill_buffer_gnl(int fd, char *buf, size_t buf_size)\n",
    "{\n",
    "\tsize_t\ti;\n",
    "\tssize_t\tr_size;\n",
    "\n",
    "\ti = 0;\n",
    "\twhile (i < buf_size)\n",
    "\t{\n",
    "\t\tr_size = read(fd, &buf[i], 1);\n",
    "\t\tif (r_size == -1)\n",
    "\t\t\treturn (-1);\n",
    "\t\tif (r_size == 0)\n",
    "\t\t\treturn (i);\n",
    "\t\tif (buf[i] == '\\n')\n",
    "\t\t{\n",
    "\t\t\tbuf[i + 1] = 0;\n",
    "\t\t\treturn (i + 1);\n",
    "\t\t}\n",
    "\t\ti++;\n",
    "\t}\n",
    "\treturn (i);\n",
    "}\n",
    "\n",
    "int\tmake_ret_gnl(int fd, char **ret, char *buf, size_t buf_size)\n",
    "{\n",
    "\tssize_t\tr_size;\n",
    "\tchar\t*ret_2;\n",
    "\n",
    "\tr_size = buf_size;\n",
    "\twhile (r_size == (ssize_t)buf_size)\n",
    "\t{\n",
    "\t\tr_size = fill_buffer_gnl(fd, buf, buf_size);\n",
    "\t\tif (r_size == -1)\n",
    "\t\t\treturn (-1);\n",
    "\t\tif (r_size > 0)\n",
    "\t\t{\n",
    "\t\t\tret_2 = ft_strdup_gnl(*ret, r_size);\n",
    "\t\t\tif (!ret_2)\n",
    "\t\t\t{\n",
    "\t\t\t\tfree(*ret);\n",
    "\t\t\t\t*ret = 0;\n",
    "\t\t\t\treturn (-1);\n",
    "\t\t\t}\n",
    "\t\t\tfree(*ret);\n",
    "\t\t\t*ret = ret_2;\n",
    "\t\t\tif (!ft_strlcat_gnl(*ret, buf, (size_t)r_size + 1))\n",
    "\t\t\t\treturn (-1);\n",
    "\t\t}\n",
    "\t}\n",
    "\treturn (0);\n",
    "}"
   ]
  },
  {
   "cell_type": "markdown",
   "metadata": {},
   "source": [
    "### gnl_test"
   ]
  },
  {
   "cell_type": "code",
   "execution_count": 233,
   "metadata": {},
   "outputs": [
    {
     "name": "stdout",
     "output_type": "stream",
     "text": [
      "Overwriting gnl_test.c\n"
     ]
    }
   ],
   "source": [
    "%%file gnl_test.c\n",
    "#include \"../gnl_working/get_next_line.h\"\n",
    "#include <stdio.h>\n",
    "#include <stdlib.h>\n",
    "#include <sys/types.h>\n",
    "#include <sys/stat.h>\n",
    "#include <fcntl.h>\n",
    "\n",
    "int main (void)\n",
    "{\n",
    "\tchar\t*string;\n",
    "\tint\t\ti;\n",
    "\tint\t\tfd1;\n",
    "//\tint\t\tfd2;\n",
    "\n",
    "\tfd1 = open(\"../gnl_working/tripouille/files/multiple_nlx5\", O_RDONLY);\n",
    "//\tfd2 = open(\"sample.txt\", O_RDONLY);\n",
    "\ti = 0;\n",
    "\twhile (i < 25)\n",
    "\t{\n",
    "\t\tstring = get_next_line(fd1);\n",
    "\t\tif (string)\n",
    "\t\t\tprintf(\"%s\", string);\n",
    "\t\tfree(string);\n",
    "//\t\tstring = get_next_line(fd2);\n",
    "//\t\tif (string)\n",
    "//\t\t\tprintf(\"%s\\n\", string);\n",
    "//\t\tfree(string);\n",
    "\t\ti++;\n",
    "\t}\n",
    "\tclose(fd1);\n",
    "//\t\tclose(fd2);\n",
    "\n",
    "\treturn (0);\n",
    "}"
   ]
  },
  {
   "cell_type": "code",
   "execution_count": 234,
   "metadata": {},
   "outputs": [
    {
     "name": "stdout",
     "output_type": "stream",
     "text": [
      "$\n",
      "$\n",
      "$\n",
      "$\n",
      "$\n",
      "\n",
      "0123456789012345678901234567890123456789$\n",
      "0\n",
      "\n",
      "\n",
      "\n",
      "\n"
     ]
    },
    {
     "name": "stderr",
     "output_type": "stream",
     "text": [
      "../gnl_working/get_next_line_utils.c: In function ‘make_ret_gnl’:\n",
      "../gnl_working/get_next_line_utils.c:132:28: error: comparison of integer expressions of different signedness: ‘size_t’ {aka ‘long unsigned int’} and ‘int’ [-Werror=sign-compare]\n",
      "  132 |                 if (r_size == -1)\n",
      "      |                            ^~\n",
      "cc1: all warnings being treated as errors\n",
      "==43944== ERROR SUMMARY: 0 errors from 0 contexts (suppressed: 0 from 0)\n"
     ]
    }
   ],
   "source": [
    "%%bash\n",
    "SIZE1=10000000\n",
    "SIZE2=1\n",
    "#rm output*\n",
    "#cc -Wall -Wextra -Werror -D BUFFER_SIZE=42 gnl_test.c ../gnl_working/get_next_line.c ../gnl_working/get_next_line_utils.c -o gnl_test\n",
    "gcc -Wall -Wextra -Werror -D BUFFER_SIZE=$SIZE1 gnl_test.c ../gnl_working/get_next_line.c ../gnl_working/get_next_line_utils.c -g -o gnl_test\n",
    "./gnl_test > output1\n",
    "cat -vET output1\n",
    "echo \"\"\n",
    "cat -vET ../gnl_working/tripouille/files/41_with_nl\n",
    "# cat output1\n",
    "#gcc -Wall -Wextra -Werror -D BUFFER_SIZE=$SIZE2 gnl_test.c ../gnl_working/get_next_line.c ../gnl_working/get_next_line_utils.c -g -o gnl_test\n",
    "#./gnl_test > output2\n",
    "valgrind -q --leak-check=full --track-origins=yes -s ./gnl_test\n",
    "#diff output1 output2"
   ]
  },
  {
   "cell_type": "markdown",
   "metadata": {},
   "source": [
    "## ~B~O~N~U~S~"
   ]
  },
  {
   "cell_type": "markdown",
   "metadata": {},
   "source": [
    "- Add bonus material here"
   ]
  },
  {
   "cell_type": "markdown",
   "metadata": {},
   "source": [
    "## Makefile"
   ]
  },
  {
   "cell_type": "markdown",
   "metadata": {},
   "source": [
    "### Makefile"
   ]
  },
  {
   "cell_type": "code",
   "execution_count": 14,
   "metadata": {},
   "outputs": [
    {
     "name": "stdout",
     "output_type": "stream",
     "text": [
      "Overwriting ../gnl_testing/Makefile\n"
     ]
    }
   ],
   "source": [
    "%%file ../gnl_testing/Makefile\n",
    "# **************************************************************************** #\n",
    "#                                                                              #\n",
    "#                                                         :::      ::::::::    #\n",
    "#    Makefile                                           :+:      :+:    :+:    #\n",
    "#                                                     +:+ +:+         +:+      #\n",
    "#    By: dpentlan <dpentlan@student.42.fr>          +#+  +:+       +#+         #\n",
    "#                                                 +#+#+#+#+#+   +#+            #\n",
    "#    Created: 2022/12/01 14:36:56 by dpentlan          #+#    #+#              #\n",
    "#    Updated: 2022/12/01 14:36:58 by dpentlan         ###   ########.fr        #\n",
    "#                                                                              #\n",
    "# **************************************************************************** #\n",
    "\n",
    "# Not needed for get next line. But in case I want to use this later it's here.\n",
    "# Note that is not working yet..\n",
    "\n",
    "NAME = gnl\n",
    "\n",
    "SRCS =\tget_next_line_utils.c \\\n",
    "\tget_next_line.c\n",
    "\n",
    "BONUS_SRCS =\n",
    "\n",
    "OBJS = ${SRCS:.c=.o}\n",
    "\n",
    "BONUS_OBJS = ${BONUS_SRCS:.c=.o}\n",
    "\n",
    "INCS = get_next_line.h\n",
    "\n",
    "CFLAGS = -Wall -Wextra -Werror\n",
    "\n",
    "CC = cc\n",
    "\n",
    "SLIB = ar rcs\n",
    "\n",
    "all: $(NAME)\n",
    "\n",
    "$(NAME): $(OBJS) $(INCS)\n",
    "\t@$(SLIB) $(NAME) -o $(OBJS)\n",
    "\n",
    "bonus: $(OBJS) $(BONUS_OBJS) $(INCS)\n",
    "\t@$(SLIB) $(NAME) -o $(OBJS) $(BONUS_OBJS)\n",
    "\n",
    "%.o: %.c\n",
    "\t@$(CC) ${CFLAGS} -c $< -o ${<:.c=.o}\n",
    "\n",
    "clean:\n",
    "\t@rm -f $(OBJS) $(BONUS_OBJS)\n",
    "\n",
    "fclean:\tclean\n",
    "\t@rm -f $(NAME)\n",
    "\n",
    "re:\tfclean all\n"
   ]
  },
  {
   "cell_type": "markdown",
   "metadata": {},
   "source": [
    "### Build Mandatory"
   ]
  },
  {
   "cell_type": "code",
   "execution_count": null,
   "metadata": {},
   "outputs": [],
   "source": [
    "%%bash\n",
    "cd ../gnl_working\n",
    "# add build commands here"
   ]
  },
  {
   "cell_type": "markdown",
   "metadata": {},
   "source": [
    "## Scratch"
   ]
  },
  {
   "cell_type": "markdown",
   "metadata": {},
   "source": [
    "### File descriptors\n",
    "- I found out after making this that the struct _IO_FILE is included in the standard library and is used to help interaction with files, but it is not used with read, open, write, close, etc. \n",
    "- It is used with fread, fopen, fwrite, and fclose."
   ]
  },
  {
   "cell_type": "code",
   "execution_count": 331,
   "metadata": {},
   "outputs": [
    {
     "name": "stdout",
     "output_type": "stream",
     "text": [
      "Overwriting fd_examine.h\n"
     ]
    }
   ],
   "source": [
    "%%file fd_examine.h\n",
    "#ifndef FD_EXAMINE_H_\n",
    "# define FD_EXAMINE_H_\n",
    "# include <stdio.h>\n",
    "# include <unistd.h>\n",
    "\n",
    "void\tprint_file_struct_properties(char *label, FILE *p_file);\n",
    "\n",
    "#endif"
   ]
  },
  {
   "cell_type": "code",
   "execution_count": 332,
   "metadata": {},
   "outputs": [
    {
     "name": "stdout",
     "output_type": "stream",
     "text": [
      "Overwriting fd_examine.c\n"
     ]
    }
   ],
   "source": [
    "%%file fd_examine.c\n",
    "#include \"fd_examine.h\"\n",
    "\n",
    "void\tprint_file_struct_properties(char *label, FILE *p_file)\n",
    "{\n",
    "\tprintf(\"label,size,member type,member name,member description,value,offset from beginning of struct\\n\");\n",
    "\tprintf(\"whole struct,%ld,,,\\n\", sizeof(*p_file));\n",
    "\tprintf(\"%s,%d,int,_flags,no description,%d,%ld\\n\", label, 8, stdin->_flags, (((unsigned long int) &(stdin->_flags)) - ((unsigned long int) stdin)));\n",
    "\tprintf(\"%s,%d,char *,_IO_read_ptr,Current read pointer,%p,%ld\\n\", label, 8, stdin->_IO_read_ptr, (((unsigned long int) &(stdin->_IO_read_ptr)) - ((unsigned long int) stdin)));\n",
    "\tprintf(\"%s,%d,char *,_IO_read_end,End of get area,%p,%ld\\n\", label, 8, stdin->_IO_read_end, (((unsigned long int) &(stdin->_IO_read_end)) - ((unsigned long int) stdin)));\n",
    "\tprintf(\"%s,%d,char *,_IO_read_base,Start of putback+get area,%p,%ld\\n\", label, 8, stdin->_IO_read_base, (((unsigned long int) &(stdin->_IO_read_base)) - ((unsigned long int) stdin)));\n",
    "\tprintf(\"%s,%d,char *,_IO_write_base,Start of put area,%p,%ld\\n\", label, 8, stdin->_IO_write_base, (((unsigned long int) &(stdin->_IO_write_base)) - ((unsigned long int) stdin)));\n",
    "\tprintf(\"%s,%d,char *,_IO_write_ptr,Current put pointer,%p,%ld\\n\", label, 8, stdin->_IO_write_ptr, (((unsigned long int) &(stdin->_IO_write_ptr)) - ((unsigned long int) stdin)));\n",
    "\tprintf(\"%s,%d,char *,_IO_write_end,End of put area,%p,%ld\\n\", label, 8, stdin->_IO_write_end, (((unsigned long int) &(stdin->_IO_write_end)) - ((unsigned long int) stdin)));\n",
    "\tprintf(\"%s,%d,char *,_IO_buf_base,Start of reserve area,%p,%ld\\n\", label, 8, stdin->_IO_buf_base, (((unsigned long int) &(stdin->_IO_buf_base)) - ((unsigned long int) stdin)));\n",
    "\tprintf(\"%s,%d,char *,_IO_buf_end,End of reserve area,%p,%ld\\n\", label, 8, stdin->_IO_buf_end, (((unsigned long int) &(stdin->_IO_buf_end)) - ((unsigned long int) stdin)));\n",
    "\tprintf(\"%s,%d,char *,_IO_save_base,Pointer to start of non-current get area,%p,%ld\\n\", label, 8, stdin->_IO_save_base, (((unsigned long int) &(stdin->_IO_save_base)) - ((unsigned long int) stdin)));\n",
    "\tprintf(\"%s,%d,char *,_IO_backup_base,Pointer to first valid character of backup area,%p,%ld\\n\", label, 8, stdin->_IO_backup_base, (((unsigned long int) &(stdin->_IO_backup_base)) - ((unsigned long int) stdin)));\n",
    "\tprintf(\"%s,%d,char *,_IO_save_end,Pointer to end of non-current get area,%p,%ld\\n\", label, 8, stdin->_IO_save_end, (((unsigned long int) &(stdin->_IO_save_end)) - ((unsigned long int) stdin)));\n",
    "\tprintf(\"%s,%d,struct _IO_marker *,_markers,no description,%p,%ld\\n\", label, 8, stdin->_markers, (((unsigned long int) &(stdin->_markers)) - ((unsigned long int) stdin)));\n",
    "\tprintf(\"%s,%d,struct _IO_FILE *,_chain,no description,%p,%ld\\n\", label, 8, stdin->_chain, (((unsigned long int) &(stdin->_chain)) - ((unsigned long int) stdin)));\n",
    "\tprintf(\"%s,%d,int,_fileno,no description,%d,%ld\\n\", label, 4, stdin->_fileno, (((unsigned long int) &(stdin->_fileno)) - ((unsigned long int) stdin)));\n",
    "\t//printf(\"%s,%d,int,_blksize,no description,%d,%ld\\n\", label, 4, stdin->_blksize, (((unsigned long int) &(stdin->_blksize)) - ((unsigned long int) stdin)));\n",
    "\tprintf(\"%s,%d,int,_flags2,no description,%d,%ld\\n\", label, 4, stdin->_flags2, (((unsigned long int) &(stdin->_flags2)) - ((unsigned long int) stdin)));\n",
    "\tprintf(\"%s,%d,_IO_off_t,_old_offset,This used to be _offset but it's too small,%ld,%ld\\n\", label, 8, stdin->_old_offset, (((unsigned long int) &(stdin->_old_offset)) - ((unsigned long int) stdin)));\n",
    "\tprintf(\"%s,%d,unsigned short,_cur_column,no description,%d,%ld\\n\", label, 2, stdin->_cur_column, (((unsigned long int) &(stdin->_cur_column)) - ((unsigned long int) stdin)));\n",
    "\tprintf(\"%s,%d,signed char,_vtable_offset,no description,%d,%ld\\n\", label, 8, stdin->_vtable_offset, (((unsigned long int) &(stdin->_vtable_offset)) - ((unsigned long int) stdin)));\n",
    "\tprintf(\"%s,%d,char,_shortbuf,no description,%s,%ld\\n\", label, 8, stdin->_shortbuf, (((unsigned long int) &(stdin->_shortbuf)) - ((unsigned long int) stdin)));\n",
    "\tprintf(\"%s,%d,_IO_lock_t *,_lock,no description,%p,%ld\\n\", label, 8, stdin->_lock, (((unsigned long int) &(stdin->_lock)) - ((unsigned long int) stdin)));\n",
    "\n",
    "\treturn ;\n",
    "}"
   ]
  },
  {
   "cell_type": "code",
   "execution_count": 333,
   "metadata": {},
   "outputs": [
    {
     "name": "stdout",
     "output_type": "stream",
     "text": [
      "Overwriting fd_test.c\n"
     ]
    }
   ],
   "source": [
    "%%file fd_test.c\n",
    "#include <stdio.h>\n",
    "#include <unistd.h>\n",
    "#include \"fd_examine.h\"\n",
    "\n",
    "int main (void)\n",
    "{\n",
    "\t//printf(\"i/o    :descriptor\\tpointer\\t\\t\\n\");\n",
    "\t//printf(\"stdin  :%d\\t\\t%p\\n\", STDIN_FILENO, stdin);\n",
    "\t//printf(\"stdout :%d\\t\\t%p\\n\", STDOUT_FILENO, stdout);\n",
    "\t// printf(\"stderr :%d\\t\\t%p\\n\", STDERR_FILENO, stderr);\n",
    "\n",
    "\tprint_file_struct_properties(\"stdin\", stdin);\n",
    "\t//print_file_struct_properties(\"stdout\", stdout);\n",
    "\t//print_file_struct_properties(\"stderr\", stderr);\n",
    "\n",
    "\treturn (0);\n",
    "}"
   ]
  },
  {
   "cell_type": "code",
   "execution_count": 334,
   "metadata": {},
   "outputs": [],
   "source": [
    "%%bash\n",
    "gcc fd_test.c fd_examine.c -g\n",
    "./a.out > output.csv"
   ]
  },
  {
   "cell_type": "markdown",
   "metadata": {},
   "source": [
    "### Stack Frame\n",
    "- This is a simple program for me to use with gdb to view the stack frame."
   ]
  },
  {
   "cell_type": "code",
   "execution_count": 24,
   "metadata": {},
   "outputs": [
    {
     "name": "stdout",
     "output_type": "stream",
     "text": [
      "Overwriting stack_frame.c\n"
     ]
    }
   ],
   "source": [
    "%%file stack_frame.c\n",
    "#include <stdlib.h>\n",
    "\n",
    "char\t*return_string(void)\n",
    "{\n",
    "\tchar\t*str;\n",
    "\tstr = (char *)malloc(10);\n",
    "\treturn (str);\n",
    "}\n",
    "\n",
    "int foo (int n)\n",
    "{\n",
    "\tstatic char *here;\n",
    "\there = 0;\n",
    "\there = return_string();\n",
    "\treturn (n + 1);\n",
    "}\n",
    "\n",
    "int main (void)\n",
    "{\n",
    "\tint\tn;\n",
    "\n",
    "\tn = 0;\n",
    "\tn = foo(n);\n",
    "\treturn (0);\n",
    "}"
   ]
  },
  {
   "cell_type": "code",
   "execution_count": 25,
   "metadata": {},
   "outputs": [
    {
     "name": "stderr",
     "output_type": "stream",
     "text": [
      "==62578== Memcheck, a memory error detector\n",
      "==62578== Copyright (C) 2002-2017, and GNU GPL'd, by Julian Seward et al.\n",
      "==62578== Using Valgrind-3.18.1 and LibVEX; rerun with -h for copyright info\n",
      "==62578== Command: ./stack_frame\n",
      "==62578== \n",
      "==62578== \n",
      "==62578== HEAP SUMMARY:\n",
      "==62578==     in use at exit: 10 bytes in 1 blocks\n",
      "==62578==   total heap usage: 1 allocs, 0 frees, 10 bytes allocated\n",
      "==62578== \n",
      "==62578== 10 bytes in 1 blocks are still reachable in loss record 1 of 1\n",
      "==62578==    at 0x4848899: malloc (in /usr/libexec/valgrind/vgpreload_memcheck-amd64-linux.so)\n",
      "==62578==    by 0x10915E: return_string (stack_frame.c:6)\n",
      "==62578==    by 0x109187: foo (stack_frame.c:14)\n",
      "==62578==    by 0x1091B3: main (stack_frame.c:23)\n",
      "==62578== \n",
      "==62578== LEAK SUMMARY:\n",
      "==62578==    definitely lost: 0 bytes in 0 blocks\n",
      "==62578==    indirectly lost: 0 bytes in 0 blocks\n",
      "==62578==      possibly lost: 0 bytes in 0 blocks\n",
      "==62578==    still reachable: 10 bytes in 1 blocks\n",
      "==62578==         suppressed: 0 bytes in 0 blocks\n",
      "==62578== \n",
      "==62578== ERROR SUMMARY: 0 errors from 0 contexts (suppressed: 0 from 0)\n"
     ]
    }
   ],
   "source": [
    "%%bash\n",
    "gcc stack_frame.c -g -o stack_frame\n",
    "./stack_frame\n",
    "valgrind --leak-check=full --show-leak-kinds=all -s ./stack_frame"
   ]
  }
 ],
 "metadata": {
  "kernelspec": {
   "display_name": "Python 3.9.13",
   "language": "python",
   "name": "python3"
  },
  "language_info": {
   "codemirror_mode": {
    "name": "ipython",
    "version": 3
   },
   "file_extension": ".py",
   "mimetype": "text/x-python",
   "name": "python",
   "nbconvert_exporter": "python",
   "pygments_lexer": "ipython3",
   "version": "3.9.13"
  },
  "orig_nbformat": 4,
  "vscode": {
   "interpreter": {
    "hash": "35159eb0463b8d05d6ebfa33c61ec94116d03e3b5624b7d5f509435ae71b39b3"
   }
  }
 },
 "nbformat": 4,
 "nbformat_minor": 2
}
