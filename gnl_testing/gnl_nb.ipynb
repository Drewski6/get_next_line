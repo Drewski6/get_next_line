{
 "cells": [
  {
   "cell_type": "markdown",
   "metadata": {},
   "source": [
    "# GET NEXT LINE"
   ]
  },
  {
   "cell_type": "markdown",
   "metadata": {},
   "source": [
    "## get_next_line.h"
   ]
  },
  {
   "cell_type": "code",
   "execution_count": 53,
   "metadata": {},
   "outputs": [
    {
     "name": "stdout",
     "output_type": "stream",
     "text": [
      "Overwriting ../gnl_working/get_next_line.h\n"
     ]
    }
   ],
   "source": [
    "%%file ../gnl_working/get_next_line.h\n",
    "/* ************************************************************************** */\n",
    "/*                                                                            */\n",
    "/*                                                        :::      ::::::::   */\n",
    "/*   get_next_line.h                                    :+:      :+:    :+:   */\n",
    "/*                                                    +:+ +:+         +:+     */\n",
    "/*   By: dpentlan <dpentlan@student.42.fr>          +#+  +:+       +#+        */\n",
    "/*                                                +#+#+#+#+#+   +#+           */\n",
    "/*   Created: 2022/12/01 13:53:29 by dpentlan          #+#    #+#             */\n",
    "/*   Updated: 2022/12/01 13:53:32 by dpentlan         ###   ########.fr       */\n",
    "/*                                                                            */\n",
    "/* ************************************************************************** */\n",
    "\n",
    "#ifndef GET_NEXT_LINE_H_\n",
    "# define GET_NEXT_LINE_H_\n",
    "\n",
    "char\t*get_next_line(int fd);\n",
    "\n",
    "#endif"
   ]
  },
  {
   "cell_type": "markdown",
   "metadata": {},
   "source": [
    "## ~M~A~N~D~A~T~O~R~Y~"
   ]
  },
  {
   "cell_type": "markdown",
   "metadata": {},
   "source": [
    "### get_next_line.c"
   ]
  },
  {
   "cell_type": "code",
   "execution_count": 91,
   "metadata": {},
   "outputs": [
    {
     "name": "stdout",
     "output_type": "stream",
     "text": [
      "Overwriting ../gnl_working/get_next_line.c\n"
     ]
    }
   ],
   "source": [
    "%%file ../gnl_working/get_next_line.c\n",
    "/* ************************************************************************** */\n",
    "/*                                                                            */\n",
    "/*                                                        :::      ::::::::   */\n",
    "/*   get_next_line.c                                    :+:      :+:    :+:   */\n",
    "/*                                                    +:+ +:+         +:+     */\n",
    "/*   By: dpentlan <dpentlan@student.42.fr>          +#+  +:+       +#+        */\n",
    "/*                                                +#+#+#+#+#+   +#+           */\n",
    "/*   Created: 2022/12/01 13:53:18 by dpentlan          #+#    #+#             */\n",
    "/*   Updated: 2022/12/01 13:53:23 by dpentlan         ###   ########.fr       */\n",
    "/*                                                                            */\n",
    "/* ************************************************************************** */\n",
    "\n",
    "#include \"get_next_line.h\"\n",
    "\n",
    "char\t*get_next_line(int fd)\n",
    "{\n",
    "\n",
    "\treturn (0);\n",
    "}\n"
   ]
  },
  {
   "cell_type": "markdown",
   "metadata": {},
   "source": [
    "### get_next_line_utils.c"
   ]
  },
  {
   "cell_type": "code",
   "execution_count": 88,
   "metadata": {},
   "outputs": [
    {
     "name": "stdout",
     "output_type": "stream",
     "text": [
      "Overwriting ../gnl_working/get_next_line_utils.c\n"
     ]
    }
   ],
   "source": [
    "%%file ../gnl_working/get_next_line_utils.c\n",
    "/* ************************************************************************** */\n",
    "/*                                                                            */\n",
    "/*                                                        :::      ::::::::   */\n",
    "/*   get_next_line_utils.c                              :+:      :+:    :+:   */\n",
    "/*                                                    +:+ +:+         +:+     */\n",
    "/*   By: dpentlan <dpentlan@student.42.fr>          +#+  +:+       +#+        */\n",
    "/*                                                +#+#+#+#+#+   +#+           */\n",
    "/*   Created: 2022/12/01 13:53:38 by dpentlan          #+#    #+#             */\n",
    "/*   Updated: 2022/12/01 13:53:41 by dpentlan         ###   ########.fr       */\n",
    "/*                                                                            */\n",
    "/* ************************************************************************** */\n",
    "\n",
    "#include \"get_next_line.h\"\n"
   ]
  },
  {
   "cell_type": "markdown",
   "metadata": {},
   "source": [
    "### gnl_test"
   ]
  },
  {
   "cell_type": "code",
   "execution_count": 92,
   "metadata": {},
   "outputs": [
    {
     "name": "stdout",
     "output_type": "stream",
     "text": [
      "Overwriting gnl_test.c\n"
     ]
    }
   ],
   "source": [
    "%%file gnl_test.c\n",
    "#include \"../gnl_working/get_next_line.h\"\n",
    "#include <stdio.h>\n",
    "#include <stdlib.h>\n",
    "\n",
    "int main (void)\n",
    "{\n",
    "\tget_next_line();\n",
    "\n",
    "\treturn (0);\n",
    "}"
   ]
  },
  {
   "cell_type": "code",
   "execution_count": 94,
   "metadata": {},
   "outputs": [],
   "source": [
    "%%bash\n",
    "cc -Wall -Wextra -Werror -D BUFFER_SIZE=42 gnl_test.c ../gnl_working/get_next_line.c ../gnl_working/get_next_line_utils.c -o gnl_test\n",
    "./gnl_test"
   ]
  },
  {
   "cell_type": "markdown",
   "metadata": {},
   "source": [
    "## ~B~O~N~U~S~"
   ]
  },
  {
   "cell_type": "markdown",
   "metadata": {},
   "source": [
    "- Add bonus material here"
   ]
  },
  {
   "cell_type": "markdown",
   "metadata": {},
   "source": [
    "## Makefile"
   ]
  },
  {
   "cell_type": "markdown",
   "metadata": {},
   "source": [
    "### Makefile"
   ]
  },
  {
   "cell_type": "code",
   "execution_count": 14,
   "metadata": {},
   "outputs": [
    {
     "name": "stdout",
     "output_type": "stream",
     "text": [
      "Overwriting ../gnl_testing/Makefile\n"
     ]
    }
   ],
   "source": [
    "%%file ../gnl_testing/Makefile\n",
    "# **************************************************************************** #\n",
    "#                                                                              #\n",
    "#                                                         :::      ::::::::    #\n",
    "#    Makefile                                           :+:      :+:    :+:    #\n",
    "#                                                     +:+ +:+         +:+      #\n",
    "#    By: dpentlan <dpentlan@student.42.fr>          +#+  +:+       +#+         #\n",
    "#                                                 +#+#+#+#+#+   +#+            #\n",
    "#    Created: 2022/12/01 14:36:56 by dpentlan          #+#    #+#              #\n",
    "#    Updated: 2022/12/01 14:36:58 by dpentlan         ###   ########.fr        #\n",
    "#                                                                              #\n",
    "# **************************************************************************** #\n",
    "\n",
    "# Not needed for get next line. But in case I want to use this later it's here.\n",
    "# Note that is not working yet..\n",
    "\n",
    "NAME = gnl\n",
    "\n",
    "SRCS =\tget_next_line_utils.c \\\n",
    "\tget_next_line.c\n",
    "\n",
    "BONUS_SRCS =\n",
    "\n",
    "OBJS = ${SRCS:.c=.o}\n",
    "\n",
    "BONUS_OBJS = ${BONUS_SRCS:.c=.o}\n",
    "\n",
    "INCS = get_next_line.h\n",
    "\n",
    "CFLAGS = -Wall -Wextra -Werror\n",
    "\n",
    "CC = cc\n",
    "\n",
    "SLIB = ar rcs\n",
    "\n",
    "all: $(NAME)\n",
    "\n",
    "$(NAME): $(OBJS) $(INCS)\n",
    "\t@$(SLIB) $(NAME) -o $(OBJS)\n",
    "\n",
    "bonus: $(OBJS) $(BONUS_OBJS) $(INCS)\n",
    "\t@$(SLIB) $(NAME) -o $(OBJS) $(BONUS_OBJS)\n",
    "\n",
    "%.o: %.c\n",
    "\t@$(CC) ${CFLAGS} -c $< -o ${<:.c=.o}\n",
    "\n",
    "clean:\n",
    "\t@rm -f $(OBJS) $(BONUS_OBJS)\n",
    "\n",
    "fclean:\tclean\n",
    "\t@rm -f $(NAME)\n",
    "\n",
    "re:\tfclean all\n"
   ]
  },
  {
   "cell_type": "markdown",
   "metadata": {},
   "source": [
    "### Build Mandatory"
   ]
  },
  {
   "cell_type": "code",
   "execution_count": null,
   "metadata": {},
   "outputs": [],
   "source": [
    "%%bash\n",
    "cd ../gnl_working\n",
    "# add build commands here"
   ]
  }
 ],
 "metadata": {
  "kernelspec": {
   "display_name": "Python 3.9.13",
   "language": "python",
   "name": "python3"
  },
  "language_info": {
   "codemirror_mode": {
    "name": "ipython",
    "version": 3
   },
   "file_extension": ".py",
   "mimetype": "text/x-python",
   "name": "python",
   "nbconvert_exporter": "python",
   "pygments_lexer": "ipython3",
   "version": "3.9.13"
  },
  "orig_nbformat": 4,
  "vscode": {
   "interpreter": {
    "hash": "35159eb0463b8d05d6ebfa33c61ec94116d03e3b5624b7d5f509435ae71b39b3"
   }
  }
 },
 "nbformat": 4,
 "nbformat_minor": 2
}
