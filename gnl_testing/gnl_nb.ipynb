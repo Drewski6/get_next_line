{
 "cells": [
  {
   "cell_type": "markdown",
   "metadata": {},
   "source": [
    "# GET NEXT LINE\n",
    "- Can use read, malloc, and free"
   ]
  },
  {
   "cell_type": "markdown",
   "metadata": {},
   "source": [
    "### Notes\n",
    "- Currently doesnt work with changing buffer size.\n",
    "- Leaks memory out the ass...\n",
    "- Does not conform at all with the norm.\n",
    "- Thoughts:\n",
    "\t- Should look at rearranging make_ret so that the beginning searches the buffer from offset to next \\n\n",
    "\t- I didnt make the function with this in mind, but in most cases the buffer will contain many possible strings and should be the first thing searched.\n",
    "\t- right now I have the idea of the buffer is going to be smaller than the line so get many chunks. But I think assuming a large buffer would be better. Like this I can design it so it searches within it's self first. Like all good philosophers should."
   ]
  },
  {
   "cell_type": "markdown",
   "metadata": {},
   "source": [
    "## get_next_line.h"
   ]
  },
  {
   "cell_type": "code",
   "execution_count": 252,
   "metadata": {},
   "outputs": [
    {
     "name": "stdout",
     "output_type": "stream",
     "text": [
      "Overwriting ../gnl_working/get_next_line.h\n"
     ]
    }
   ],
   "source": [
    "%%file ../gnl_working/get_next_line.h\n",
    "/* ************************************************************************** */\n",
    "/*                                                                            */\n",
    "/*                                                        :::      ::::::::   */\n",
    "/*   get_next_line.h                                    :+:      :+:    :+:   */\n",
    "/*                                                    +:+ +:+         +:+     */\n",
    "/*   By: dpentlan <dpentlan@student.42.fr>          +#+  +:+       +#+        */\n",
    "/*                                                +#+#+#+#+#+   +#+           */\n",
    "/*   Created: 2022/12/01 13:53:29 by dpentlan          #+#    #+#             */\n",
    "/*   Updated: 2022/12/01 13:53:32 by dpentlan         ###   ########.fr       */\n",
    "/*                                                                            */\n",
    "/* ************************************************************************** */\n",
    "\n",
    "#ifndef GET_NEXT_LINE_H\n",
    "# define GET_NEXT_LINE_H\n",
    "# ifndef BUFFER_SIZE\n",
    "#  define BUFFER_SIZE 1024\n",
    "# endif\n",
    "# include <stdlib.h>\n",
    "# include <unistd.h>\n",
    "\n",
    "char\t*get_next_line(int fd);\n",
    "int\t\tmake_ret(int fd, char **ret, char *buf, int offset);\n",
    "\n",
    "#endif"
   ]
  },
  {
   "cell_type": "markdown",
   "metadata": {},
   "source": [
    "## ~M~A~N~D~A~T~O~R~Y~"
   ]
  },
  {
   "cell_type": "markdown",
   "metadata": {},
   "source": [
    "### get_next_line.c"
   ]
  },
  {
   "cell_type": "code",
   "execution_count": 253,
   "metadata": {},
   "outputs": [
    {
     "name": "stdout",
     "output_type": "stream",
     "text": [
      "Overwriting ../gnl_working/get_next_line.c\n"
     ]
    }
   ],
   "source": [
    "%%file ../gnl_working/get_next_line.c\n",
    "/* ************************************************************************** */\n",
    "/*                                                                            */\n",
    "/*                                                        :::      ::::::::   */\n",
    "/*   get_next_line.c                                    :+:      :+:    :+:   */\n",
    "/*                                                    +:+ +:+         +:+     */\n",
    "/*   By: dpentlan <dpentlan@student.42.fr>          +#+  +:+       +#+        */\n",
    "/*                                                +#+#+#+#+#+   +#+           */\n",
    "/*   Created: 2022/12/01 13:53:18 by dpentlan          #+#    #+#             */\n",
    "/*   Updated: 2022/12/01 13:53:23 by dpentlan         ###   ########.fr       */\n",
    "/*                                                                            */\n",
    "/* ************************************************************************** */\n",
    "\n",
    "#include \"get_next_line.h\"\n",
    "\n",
    "char\t*get_next_line(int fd)\n",
    "{\n",
    "\tstatic char\t\t*buf;\n",
    "\tchar\t\t\t*ret;\n",
    "\tstatic int\t\tfd_table[1024];\n",
    "\n",
    "\tret = 0;\n",
    "\tif (!buf)\n",
    "\t\tbuf = (char *)malloc((BUFFER_SIZE + 1) * sizeof(char));\n",
    "\tif (!buf)\n",
    "\t\treturn (0);\n",
    "\tfd_table[fd] = make_ret(fd, &ret, buf, fd_table[fd]);\n",
    "\tif (!ret)\n",
    "\t\treturn (0);\n",
    "\treturn (ret);\n",
    "}\n"
   ]
  },
  {
   "cell_type": "markdown",
   "metadata": {},
   "source": [
    "### get_next_line_utils.c"
   ]
  },
  {
   "cell_type": "code",
   "execution_count": 238,
   "metadata": {},
   "outputs": [
    {
     "name": "stdout",
     "output_type": "stream",
     "text": [
      "Overwriting ../gnl_working/get_next_line_utils.c\n"
     ]
    }
   ],
   "source": [
    "%%file ../gnl_working/get_next_line_utils.c\n",
    "/* ************************************************************************** */\n",
    "/*                                                                            */\n",
    "/*                                                        :::      ::::::::   */\n",
    "/*   get_next_line_utils.c                              :+:      :+:    :+:   */\n",
    "/*                                                    +:+ +:+         +:+     */\n",
    "/*   By: dpentlan <dpentlan@student.42.fr>          +#+  +:+       +#+        */\n",
    "/*                                                +#+#+#+#+#+   +#+           */\n",
    "/*   Created: 2022/12/01 13:53:38 by dpentlan          #+#    #+#             */\n",
    "/*   Updated: 2022/12/01 13:53:41 by dpentlan         ###   ########.fr       */\n",
    "/*                                                                            */\n",
    "/* ************************************************************************** */\n",
    "\n",
    "#include \"get_next_line.h\"\n",
    "\n",
    "static char\t*newline_in_buf(char *buf)\n",
    "{\n",
    "\tint\ti;\n",
    "\n",
    "\ti = 0;\n",
    "\twhile (buf[i])\n",
    "\t{\n",
    "\t\tif (buf[i] == '\\n')\n",
    "\t\t\treturn (&buf[i + 1]);\n",
    "\t\ti++;\n",
    "\t}\n",
    "\treturn (0);\n",
    "}\n",
    "\n",
    "static char\t*ft_strdupncat(char *src, char *cat, int size)\n",
    "{\n",
    "\tchar\t*str_ret;\n",
    "\tint\t\tsrc_len;\n",
    "\tint\t\ti;\n",
    "\tint\t\tj;\n",
    "\n",
    "\ti = 0;\n",
    "\tsrc_len = 0;\n",
    "\tif (src)\n",
    "\t{\n",
    "\t\twhile (src[src_len])\n",
    "\t\t\tsrc_len++;\n",
    "\t}\n",
    "\tstr_ret = (char *)malloc((src_len + size + 1) * sizeof(char));\n",
    "\tif (!str_ret)\n",
    "\t\treturn (0);\n",
    "\tif (src)\n",
    "\t{\n",
    "\t\twhile (src[i])\n",
    "\t\t{\n",
    "\t\t\tstr_ret[i] = src[i];\n",
    "\t\t\ti++;\n",
    "\t\t}\n",
    "\t}\n",
    "\tj = 0;\n",
    "\twhile (j < size)\n",
    "\t{\n",
    "\t\tstr_ret[i + j] = cat[j];\n",
    "\t\tif (cat[j] == '\\n')\n",
    "\t\t\tbreak ;\n",
    "\t\tj++;\n",
    "\t}\n",
    "\tstr_ret[i + j] = '\\0';\n",
    "\treturn (str_ret);\n",
    "}\n",
    "\n",
    "int\tft_strlen(char *str)\n",
    "{\n",
    "\tint\ti;\n",
    "\n",
    "\ti = 0;\n",
    "\twhile (str[i] && str[i] != '\\n')\n",
    "\t\ti++;\n",
    "\treturn (i);\n",
    "}\n",
    "\n",
    "int\tmake_ret(int fd, char **ret, char *buf, int offset)\n",
    "{\n",
    "\tunsigned long\tpos;\n",
    "\tchar\t\t\t*ret2;\n",
    "\n",
    "\tpos = 0;\n",
    "\tif (offset)\n",
    "\t{\n",
    "\t\tif (newline_in_buf(buf + offset))\n",
    "\t\t\tpos = (unsigned long) newline_in_buf(buf + offset) - (unsigned long) buf;\n",
    "\t\telse\n",
    "\t\t{\n",
    "\t\t\tret2 = ft_strdupncat(*ret, buf + offset, ft_strlen(buf + offset));\n",
    "\t\t\tif (!read(fd, buf, BUFFER_SIZE))\n",
    "\t\t\t\treturn (0);\n",
    "\t\t\tif (newline_in_buf(buf + offset))\n",
    "\t\t\t\tpos = (unsigned long) newline_in_buf(buf + offset) - (unsigned long) buf;\n",
    "\t\t\tfree(*ret);\n",
    "\t\t\t*ret = ret2;\n",
    "\t\t\toffset = 0;\n",
    "\t\t}\n",
    "\t}\n",
    "\twhile (!pos)\n",
    "\t{\n",
    "\t\tret2 = ft_strdupncat(*ret, buf + offset, ft_strlen(buf + offset));\n",
    "\t\tif (!read(fd, buf, BUFFER_SIZE))\n",
    "\t\t\treturn (0);\n",
    "\t\tif (newline_in_buf(buf + offset))\n",
    "\t\t\tpos = (unsigned long) newline_in_buf(buf + offset) - (unsigned long) buf;\n",
    "\t\tfree(*ret);\n",
    "\t\t*ret = ret2;\n",
    "\t}\n",
    "\tif (pos)\n",
    "\t\tret2 = ft_strdupncat(*ret, buf + offset, ft_strlen(buf + offset));\n",
    "\tfree(*ret);\n",
    "\t*ret = ret2;\n",
    "\treturn (pos);\n",
    "}"
   ]
  },
  {
   "cell_type": "markdown",
   "metadata": {},
   "source": [
    "### gnl_test"
   ]
  },
  {
   "cell_type": "code",
   "execution_count": 255,
   "metadata": {},
   "outputs": [
    {
     "name": "stdout",
     "output_type": "stream",
     "text": [
      "Overwriting gnl_test.c\n"
     ]
    }
   ],
   "source": [
    "%%file gnl_test.c\n",
    "#include \"../gnl_working/get_next_line.h\"\n",
    "#include <stdio.h>\n",
    "#include <stdlib.h>\n",
    "#include <sys/types.h>\n",
    "#include <sys/stat.h>\n",
    "#include <fcntl.h>\n",
    "\n",
    "int main (void)\n",
    "{\n",
    "\tchar\t*string;\n",
    "\tint\t\ti;\n",
    "\tint\t\tfd;\n",
    "\n",
    "\tfd = open(\"output.csv\", O_RDONLY);\n",
    "\ti = 0;\n",
    "\twhile (i < 25)\n",
    "\t{\n",
    "\t\tstring = get_next_line(fd);\n",
    "\t\tprintf(\"Return:%s\\n\", string);\n",
    "\t\ti++;\n",
    "\t}\n",
    "\tfree(string);\n",
    "\tclose(fd);\n",
    "\n",
    "\treturn (0);\n",
    "}"
   ]
  },
  {
   "cell_type": "code",
   "execution_count": 257,
   "metadata": {},
   "outputs": [
    {
     "name": "stdout",
     "output_type": "stream",
     "text": [
      "Return:label,size,member type,member name,member description,value,offset from beginning of struct\n",
      "Return:whole struct,216,,,\n",
      "Return:stdin,8,int,_flags,no description,-72540024,0\n",
      "Return:stdin,8,char *,_IO_read_ptr,Current read pointer,(nil),8\n",
      "Return:stdin,8,char *,_IO_read_end,End of get area,(nil),16\n",
      "Return:stdin,8,char *,_IO_read_base,Start of putback+get area,(nil),24\n",
      "Return:stdin,8,char *,_IO_write_base,Start of put area,(nil),32\n",
      "Return:stdin,8,char *,_IO_write_ptr,Current put pointer,(nil),40\n",
      "Return:stdin,8,char *,_IO_write_end,End of put area,(nil),48\n",
      "Return:stdin,8,char *,_IO_buf_base,Start of reserve area,(nil),56\n",
      "Return:stdin,8,char *,_IO_buf_end,End of reserve area,(nil),64\n",
      "Return:stdin,8,char *,_IO_save_base,Pointer to start of non-current get area,(nil),72\n",
      "Return:stdin,8,char *,_IO_backup_base,Pointer to first valid character of backup area,(nil),80\n",
      "Return:stdin,8,char *,_IO_save_end,Pointer to end of non-current get area,(nil),88\n",
      "Return:stdin,8,struct _IO_marker *,_markers,no description,(nil),96\n",
      "Return:stdin,8,struct _IO_FILE *,_chain,no description,(nil),104\n",
      "Return:stdin,4,int,_fileno,no description,0,112ion,0,116\n",
      "Return:stdin,8,_IO_off_t,_old_offset,This used to be _offset but it's too small,-1,120\n",
      "Return:stdin,2,unsigned short,_cur_column,no description,0,128\n",
      "Return:stdin,8,signed char,_vtable_offset,no description,0,130\n",
      "Return:stdin,8,char,_shortbuf,no description,,131\n",
      "Return:stdin,8,_IO_lock_t *,_lock,no description,0x7f3635d48a80,136\n",
      "Return:(null)\n",
      "Return:(null)\n",
      "Return:(null)\n"
     ]
    }
   ],
   "source": [
    "%%bash\n",
    "#cc -Wall -Wextra -Werror -D BUFFER_SIZE=42 gnl_test.c ../gnl_working/get_next_line.c ../gnl_working/get_next_line_utils.c -o gnl_test\n",
    "gcc -Wall -Wextra -Werror -D BUFFER_SIZE=42 gnl_test.c ../gnl_working/get_next_line.c ../gnl_working/get_next_line_utils.c -g -o gnl_test\n",
    "./gnl_test\n",
    "# valgrind --leak-check=full ./gnl_test"
   ]
  },
  {
   "cell_type": "markdown",
   "metadata": {},
   "source": [
    "## ~B~O~N~U~S~"
   ]
  },
  {
   "cell_type": "markdown",
   "metadata": {},
   "source": [
    "- Add bonus material here"
   ]
  },
  {
   "cell_type": "markdown",
   "metadata": {},
   "source": [
    "## Makefile"
   ]
  },
  {
   "cell_type": "markdown",
   "metadata": {},
   "source": [
    "### Makefile"
   ]
  },
  {
   "cell_type": "code",
   "execution_count": 14,
   "metadata": {},
   "outputs": [
    {
     "name": "stdout",
     "output_type": "stream",
     "text": [
      "Overwriting ../gnl_testing/Makefile\n"
     ]
    }
   ],
   "source": [
    "%%file ../gnl_testing/Makefile\n",
    "# **************************************************************************** #\n",
    "#                                                                              #\n",
    "#                                                         :::      ::::::::    #\n",
    "#    Makefile                                           :+:      :+:    :+:    #\n",
    "#                                                     +:+ +:+         +:+      #\n",
    "#    By: dpentlan <dpentlan@student.42.fr>          +#+  +:+       +#+         #\n",
    "#                                                 +#+#+#+#+#+   +#+            #\n",
    "#    Created: 2022/12/01 14:36:56 by dpentlan          #+#    #+#              #\n",
    "#    Updated: 2022/12/01 14:36:58 by dpentlan         ###   ########.fr        #\n",
    "#                                                                              #\n",
    "# **************************************************************************** #\n",
    "\n",
    "# Not needed for get next line. But in case I want to use this later it's here.\n",
    "# Note that is not working yet..\n",
    "\n",
    "NAME = gnl\n",
    "\n",
    "SRCS =\tget_next_line_utils.c \\\n",
    "\tget_next_line.c\n",
    "\n",
    "BONUS_SRCS =\n",
    "\n",
    "OBJS = ${SRCS:.c=.o}\n",
    "\n",
    "BONUS_OBJS = ${BONUS_SRCS:.c=.o}\n",
    "\n",
    "INCS = get_next_line.h\n",
    "\n",
    "CFLAGS = -Wall -Wextra -Werror\n",
    "\n",
    "CC = cc\n",
    "\n",
    "SLIB = ar rcs\n",
    "\n",
    "all: $(NAME)\n",
    "\n",
    "$(NAME): $(OBJS) $(INCS)\n",
    "\t@$(SLIB) $(NAME) -o $(OBJS)\n",
    "\n",
    "bonus: $(OBJS) $(BONUS_OBJS) $(INCS)\n",
    "\t@$(SLIB) $(NAME) -o $(OBJS) $(BONUS_OBJS)\n",
    "\n",
    "%.o: %.c\n",
    "\t@$(CC) ${CFLAGS} -c $< -o ${<:.c=.o}\n",
    "\n",
    "clean:\n",
    "\t@rm -f $(OBJS) $(BONUS_OBJS)\n",
    "\n",
    "fclean:\tclean\n",
    "\t@rm -f $(NAME)\n",
    "\n",
    "re:\tfclean all\n"
   ]
  },
  {
   "cell_type": "markdown",
   "metadata": {},
   "source": [
    "### Build Mandatory"
   ]
  },
  {
   "cell_type": "code",
   "execution_count": null,
   "metadata": {},
   "outputs": [],
   "source": [
    "%%bash\n",
    "cd ../gnl_working\n",
    "# add build commands here"
   ]
  },
  {
   "cell_type": "markdown",
   "metadata": {},
   "source": [
    "## Scratch"
   ]
  },
  {
   "cell_type": "markdown",
   "metadata": {},
   "source": [
    "### File descriptors\n",
    "- I found out after making this that the struct _IO_FILE is included in the standard library and is used to help interaction with files, but it is not used with read, open, write, close, etc. \n",
    "- It is used with fread, fopen, fwrite, and fclose."
   ]
  },
  {
   "cell_type": "code",
   "execution_count": 268,
   "metadata": {},
   "outputs": [
    {
     "name": "stdout",
     "output_type": "stream",
     "text": [
      "Overwriting fd_examine.h\n"
     ]
    }
   ],
   "source": [
    "%%file fd_examine.h\n",
    "#ifndef FD_EXAMINE_H_\n",
    "# define FD_EXAMINE_H_\n",
    "# include <stdio.h>\n",
    "# include <unistd.h>\n",
    "\n",
    "void\tprint_file_struct_properties(char *label, FILE *p_file);\n",
    "\n",
    "#endif"
   ]
  },
  {
   "cell_type": "code",
   "execution_count": 377,
   "metadata": {},
   "outputs": [
    {
     "name": "stdout",
     "output_type": "stream",
     "text": [
      "Overwriting fd_examine.c\n"
     ]
    }
   ],
   "source": [
    "%%file fd_examine.c\n",
    "#include \"fd_examine.h\"\n",
    "\n",
    "void\tprint_file_struct_properties(char *label, FILE *p_file)\n",
    "{\n",
    "\tprintf(\"label,size,member type,member name,member description,value,offset from beginning of struct\\n\");\n",
    "\tprintf(\"whole struct,%ld,,,\\n\", sizeof(*p_file));\n",
    "\tprintf(\"%s,%d,int,_flags,no description,%d,%ld\\n\", label, 8, stdin->_flags, (((unsigned long int) &(stdin->_flags)) - ((unsigned long int) stdin)));\n",
    "\tprintf(\"%s,%d,char *,_IO_read_ptr,Current read pointer,%p,%ld\\n\", label, 8, stdin->_IO_read_ptr, (((unsigned long int) &(stdin->_IO_read_ptr)) - ((unsigned long int) stdin)));\n",
    "\tprintf(\"%s,%d,char *,_IO_read_end,End of get area,%p,%ld\\n\", label, 8, stdin->_IO_read_end, (((unsigned long int) &(stdin->_IO_read_end)) - ((unsigned long int) stdin)));\n",
    "\tprintf(\"%s,%d,char *,_IO_read_base,Start of putback+get area,%p,%ld\\n\", label, 8, stdin->_IO_read_base, (((unsigned long int) &(stdin->_IO_read_base)) - ((unsigned long int) stdin)));\n",
    "\tprintf(\"%s,%d,char *,_IO_write_base,Start of put area,%p,%ld\\n\", label, 8, stdin->_IO_write_base, (((unsigned long int) &(stdin->_IO_write_base)) - ((unsigned long int) stdin)));\n",
    "\tprintf(\"%s,%d,char *,_IO_write_ptr,Current put pointer,%p,%ld\\n\", label, 8, stdin->_IO_write_ptr, (((unsigned long int) &(stdin->_IO_write_ptr)) - ((unsigned long int) stdin)));\n",
    "\tprintf(\"%s,%d,char *,_IO_write_end,End of put area,%p,%ld\\n\", label, 8, stdin->_IO_write_end, (((unsigned long int) &(stdin->_IO_write_end)) - ((unsigned long int) stdin)));\n",
    "\tprintf(\"%s,%d,char *,_IO_buf_base,Start of reserve area,%p,%ld\\n\", label, 8, stdin->_IO_buf_base, (((unsigned long int) &(stdin->_IO_buf_base)) - ((unsigned long int) stdin)));\n",
    "\tprintf(\"%s,%d,char *,_IO_buf_end,End of reserve area,%p,%ld\\n\", label, 8, stdin->_IO_buf_end, (((unsigned long int) &(stdin->_IO_buf_end)) - ((unsigned long int) stdin)));\n",
    "\tprintf(\"%s,%d,char *,_IO_save_base,Pointer to start of non-current get area,%p,%ld\\n\", label, 8, stdin->_IO_save_base, (((unsigned long int) &(stdin->_IO_save_base)) - ((unsigned long int) stdin)));\n",
    "\tprintf(\"%s,%d,char *,_IO_backup_base,Pointer to first valid character of backup area,%p,%ld\\n\", label, 8, stdin->_IO_backup_base, (((unsigned long int) &(stdin->_IO_backup_base)) - ((unsigned long int) stdin)));\n",
    "\tprintf(\"%s,%d,char *,_IO_save_end,Pointer to end of non-current get area,%p,%ld\\n\", label, 8, stdin->_IO_save_end, (((unsigned long int) &(stdin->_IO_save_end)) - ((unsigned long int) stdin)));\n",
    "\tprintf(\"%s,%d,struct _IO_marker *,_markers,no description,%p,%ld\\n\", label, 8, stdin->_markers, (((unsigned long int) &(stdin->_markers)) - ((unsigned long int) stdin)));\n",
    "\tprintf(\"%s,%d,struct _IO_FILE *,_chain,no description,%p,%ld\\n\", label, 8, stdin->_chain, (((unsigned long int) &(stdin->_chain)) - ((unsigned long int) stdin)));\n",
    "\tprintf(\"%s,%d,int,_fileno,no description,%d,%ld\\n\", label, 4, stdin->_fileno, (((unsigned long int) &(stdin->_fileno)) - ((unsigned long int) stdin)));\n",
    "\t//printf(\"%s,%d,int,_blksize,no description,%d,%ld\\n\", label, 4, stdin->_blksize, (((unsigned long int) &(stdin->_blksize)) - ((unsigned long int) stdin)));\n",
    "\tprintf(\"%s,%d,int,_flags2,no description,%d,%ld\\n\", label, 4, stdin->_flags2, (((unsigned long int) &(stdin->_flags2)) - ((unsigned long int) stdin)));\n",
    "\tprintf(\"%s,%d,_IO_off_t,_old_offset,This used to be _offset but it's too small,%ld,%ld\\n\", label, 8, stdin->_old_offset, (((unsigned long int) &(stdin->_old_offset)) - ((unsigned long int) stdin)));\n",
    "\tprintf(\"%s,%d,unsigned short,_cur_column,no description,%d,%ld\\n\", label, 2, stdin->_cur_column, (((unsigned long int) &(stdin->_cur_column)) - ((unsigned long int) stdin)));\n",
    "\tprintf(\"%s,%d,signed char,_vtable_offset,no description,%d,%ld\\n\", label, 8, stdin->_vtable_offset, (((unsigned long int) &(stdin->_vtable_offset)) - ((unsigned long int) stdin)));\n",
    "\tprintf(\"%s,%d,char,_shortbuf,no description,%s,%ld\\n\", label, 8, stdin->_shortbuf, (((unsigned long int) &(stdin->_shortbuf)) - ((unsigned long int) stdin)));\n",
    "\tprintf(\"%s,%d,_IO_lock_t *,_lock,no description,%p,%ld\\n\", label, 8, stdin->_lock, (((unsigned long int) &(stdin->_lock)) - ((unsigned long int) stdin)));\n",
    "\n",
    "\treturn ;\n",
    "}"
   ]
  },
  {
   "cell_type": "code",
   "execution_count": 380,
   "metadata": {},
   "outputs": [
    {
     "name": "stdout",
     "output_type": "stream",
     "text": [
      "Overwriting fd_test.c\n"
     ]
    }
   ],
   "source": [
    "%%file fd_test.c\n",
    "#include <stdio.h>\n",
    "#include <unistd.h>\n",
    "#include \"fd_examine.h\"\n",
    "\n",
    "int main (void)\n",
    "{\n",
    "\t//printf(\"i/o    :descriptor\\tpointer\\t\\t\\n\");\n",
    "\t//printf(\"stdin  :%d\\t\\t%p\\n\", STDIN_FILENO, stdin);\n",
    "\t//printf(\"stdout :%d\\t\\t%p\\n\", STDOUT_FILENO, stdout);\n",
    "\t// printf(\"stderr :%d\\t\\t%p\\n\", STDERR_FILENO, stderr);\n",
    "\n",
    "\tprint_file_struct_properties(\"stdin\", stdin);\n",
    "\t//print_file_struct_properties(\"stdout\", stdout);\n",
    "\t//print_file_struct_properties(\"stderr\", stderr);\n",
    "\n",
    "\treturn (0);\n",
    "}"
   ]
  },
  {
   "cell_type": "code",
   "execution_count": 10,
   "metadata": {},
   "outputs": [],
   "source": [
    "%%bash\n",
    "gcc fd_test.c fd_examine.c -g\n",
    "./a.out > output.csv"
   ]
  },
  {
   "cell_type": "markdown",
   "metadata": {},
   "source": [
    "### Stack Frame\n",
    "- This is a simple program for me to use with gdb to view the stack frame."
   ]
  },
  {
   "cell_type": "code",
   "execution_count": 24,
   "metadata": {},
   "outputs": [
    {
     "name": "stdout",
     "output_type": "stream",
     "text": [
      "Overwriting stack_frame.c\n"
     ]
    }
   ],
   "source": [
    "%%file stack_frame.c\n",
    "#include <stdlib.h>\n",
    "\n",
    "char\t*return_string(void)\n",
    "{\n",
    "\tchar\t*str;\n",
    "\tstr = (char *)malloc(10);\n",
    "\treturn (str);\n",
    "}\n",
    "\n",
    "int foo (int n)\n",
    "{\n",
    "\tstatic char *here;\n",
    "\there = 0;\n",
    "\there = return_string();\n",
    "\treturn (n + 1);\n",
    "}\n",
    "\n",
    "int main (void)\n",
    "{\n",
    "\tint\tn;\n",
    "\n",
    "\tn = 0;\n",
    "\tn = foo(n);\n",
    "\treturn (0);\n",
    "}"
   ]
  },
  {
   "cell_type": "code",
   "execution_count": 25,
   "metadata": {},
   "outputs": [
    {
     "name": "stderr",
     "output_type": "stream",
     "text": [
      "==62578== Memcheck, a memory error detector\n",
      "==62578== Copyright (C) 2002-2017, and GNU GPL'd, by Julian Seward et al.\n",
      "==62578== Using Valgrind-3.18.1 and LibVEX; rerun with -h for copyright info\n",
      "==62578== Command: ./stack_frame\n",
      "==62578== \n",
      "==62578== \n",
      "==62578== HEAP SUMMARY:\n",
      "==62578==     in use at exit: 10 bytes in 1 blocks\n",
      "==62578==   total heap usage: 1 allocs, 0 frees, 10 bytes allocated\n",
      "==62578== \n",
      "==62578== 10 bytes in 1 blocks are still reachable in loss record 1 of 1\n",
      "==62578==    at 0x4848899: malloc (in /usr/libexec/valgrind/vgpreload_memcheck-amd64-linux.so)\n",
      "==62578==    by 0x10915E: return_string (stack_frame.c:6)\n",
      "==62578==    by 0x109187: foo (stack_frame.c:14)\n",
      "==62578==    by 0x1091B3: main (stack_frame.c:23)\n",
      "==62578== \n",
      "==62578== LEAK SUMMARY:\n",
      "==62578==    definitely lost: 0 bytes in 0 blocks\n",
      "==62578==    indirectly lost: 0 bytes in 0 blocks\n",
      "==62578==      possibly lost: 0 bytes in 0 blocks\n",
      "==62578==    still reachable: 10 bytes in 1 blocks\n",
      "==62578==         suppressed: 0 bytes in 0 blocks\n",
      "==62578== \n",
      "==62578== ERROR SUMMARY: 0 errors from 0 contexts (suppressed: 0 from 0)\n"
     ]
    }
   ],
   "source": [
    "%%bash\n",
    "gcc stack_frame.c -g -o stack_frame\n",
    "./stack_frame\n",
    "valgrind --leak-check=full --show-leak-kinds=all -s ./stack_frame"
   ]
  }
 ],
 "metadata": {
  "kernelspec": {
   "display_name": "Python 3.9.13",
   "language": "python",
   "name": "python3"
  },
  "language_info": {
   "codemirror_mode": {
    "name": "ipython",
    "version": 3
   },
   "file_extension": ".py",
   "mimetype": "text/x-python",
   "name": "python",
   "nbconvert_exporter": "python",
   "pygments_lexer": "ipython3",
   "version": "3.9.13"
  },
  "orig_nbformat": 4,
  "vscode": {
   "interpreter": {
    "hash": "35159eb0463b8d05d6ebfa33c61ec94116d03e3b5624b7d5f509435ae71b39b3"
   }
  }
 },
 "nbformat": 4,
 "nbformat_minor": 2
}
