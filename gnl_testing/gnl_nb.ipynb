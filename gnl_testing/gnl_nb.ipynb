{
 "cells": [
  {
   "cell_type": "markdown",
   "metadata": {},
   "source": [
    "# GET NEXT LINE\n",
    "- Can use read, malloc, and free"
   ]
  },
  {
   "cell_type": "markdown",
   "metadata": {},
   "source": [
    "## get_next_line.h"
   ]
  },
  {
   "cell_type": "code",
   "execution_count": 2,
   "metadata": {},
   "outputs": [
    {
     "name": "stdout",
     "output_type": "stream",
     "text": [
      "Writing ../gnl_working/get_next_line.h\n"
     ]
    }
   ],
   "source": [
    "%%file ../gnl_working/get_next_line.h\n",
    "/* ************************************************************************** */\n",
    "/*                                                                            */\n",
    "/*                                                        :::      ::::::::   */\n",
    "/*   get_next_line.h                                    :+:      :+:    :+:   */\n",
    "/*                                                    +:+ +:+         +:+     */\n",
    "/*   By: dpentlan <dpentlan@student.42.fr>          +#+  +:+       +#+        */\n",
    "/*                                                +#+#+#+#+#+   +#+           */\n",
    "/*   Created: 2022/12/01 13:53:29 by dpentlan          #+#    #+#             */\n",
    "/*   Updated: 2022/12/01 13:53:32 by dpentlan         ###   ########.fr       */\n",
    "/*                                                                            */\n",
    "/* ************************************************************************** */\n",
    "\n",
    "#ifndef GET_NEXT_LINE_H\n",
    "# define GET_NEXT_LINE_H\n",
    "# ifndef BUFFER_SIZE\n",
    "#  define BUFFER_SIZE 1024\n",
    "# endif\n",
    "# include <stdlib.h>\n",
    "# include <unistd.h>\n",
    "\n",
    "char\t*get_next_line(int fd);\n",
    "\n",
    "#endif"
   ]
  },
  {
   "cell_type": "markdown",
   "metadata": {},
   "source": [
    "## ~M~A~N~D~A~T~O~R~Y~"
   ]
  },
  {
   "cell_type": "markdown",
   "metadata": {},
   "source": [
    "### get_next_line.c"
   ]
  },
  {
   "cell_type": "code",
   "execution_count": 1,
   "metadata": {},
   "outputs": [
    {
     "name": "stdout",
     "output_type": "stream",
     "text": [
      "Writing ../gnl_working/get_next_line.c\n"
     ]
    }
   ],
   "source": [
    "%%file ../gnl_working/get_next_line.c\n",
    "/* ************************************************************************** */\n",
    "/*                                                                            */\n",
    "/*                                                        :::      ::::::::   */\n",
    "/*   get_next_line.c                                    :+:      :+:    :+:   */\n",
    "/*                                                    +:+ +:+         +:+     */\n",
    "/*   By: dpentlan <dpentlan@student.42.fr>          +#+  +:+       +#+        */\n",
    "/*                                                +#+#+#+#+#+   +#+           */\n",
    "/*   Created: 2022/12/01 13:53:18 by dpentlan          #+#    #+#             */\n",
    "/*   Updated: 2022/12/01 13:53:23 by dpentlan         ###   ########.fr       */\n",
    "/*                                                                            */\n",
    "/* ************************************************************************** */\n",
    "\n",
    "#include \"get_next_line.h\"\n",
    "\n",
    "char\t*get_next_line(int fd)\n",
    "{\n",
    "\tchar\t*ret;\n",
    "\t\n",
    "\n",
    "\n",
    "\treturn (ret);\n",
    "}\n"
   ]
  },
  {
   "cell_type": "markdown",
   "metadata": {},
   "source": [
    "### get_next_line_utils.c"
   ]
  },
  {
   "cell_type": "code",
   "execution_count": 3,
   "metadata": {},
   "outputs": [
    {
     "name": "stdout",
     "output_type": "stream",
     "text": [
      "Writing ../gnl_working/get_next_line_utils.c\n"
     ]
    }
   ],
   "source": [
    "%%file ../gnl_working/get_next_line_utils.c\n",
    "/* ************************************************************************** */\n",
    "/*                                                                            */\n",
    "/*                                                        :::      ::::::::   */\n",
    "/*   get_next_line_utils.c                              :+:      :+:    :+:   */\n",
    "/*                                                    +:+ +:+         +:+     */\n",
    "/*   By: dpentlan <dpentlan@student.42.fr>          +#+  +:+       +#+        */\n",
    "/*                                                +#+#+#+#+#+   +#+           */\n",
    "/*   Created: 2022/12/01 13:53:38 by dpentlan          #+#    #+#             */\n",
    "/*   Updated: 2022/12/01 13:53:41 by dpentlan         ###   ########.fr       */\n",
    "/*                                                                            */\n",
    "/* ************************************************************************** */\n",
    "\n",
    "#include \"get_next_line.h\"\n",
    "\n"
   ]
  },
  {
   "cell_type": "markdown",
   "metadata": {},
   "source": [
    "### gnl_test"
   ]
  },
  {
   "cell_type": "code",
   "execution_count": 457,
   "metadata": {},
   "outputs": [
    {
     "name": "stdout",
     "output_type": "stream",
     "text": [
      "Overwriting gnl_test.c\n"
     ]
    }
   ],
   "source": [
    "%%file gnl_test.c\n",
    "#include \"../gnl_working/get_next_line.h\"\n",
    "#include <stdio.h>\n",
    "#include <stdlib.h>\n",
    "#include <sys/types.h>\n",
    "#include <sys/stat.h>\n",
    "#include <fcntl.h>\n",
    "\n",
    "int main (void)\n",
    "{\n",
    "\tchar\t*string;\n",
    "\tint\t\tfd;\n",
    "\n",
    "\tfd = open(\"output.csv\", O_RDONLY);\n",
    "\tstring = get_next_line(fd);\n",
    "\tprintf(\"Return:%s\\n\", string);\n",
    "\n",
    "\tfree(string);\n",
    "\tclose(fd);\n",
    "\n",
    "\treturn (0);\n",
    "}"
   ]
  },
  {
   "cell_type": "code",
   "execution_count": 458,
   "metadata": {},
   "outputs": [
    {
     "name": "stdout",
     "output_type": "stream",
     "text": [
      "Return:label,size,member type,member name,member \n",
      "Return:label,size,member type,member name,member \n"
     ]
    },
    {
     "name": "stderr",
     "output_type": "stream",
     "text": [
      "==127071== Memcheck, a memory error detector\n",
      "==127071== Copyright (C) 2002-2017, and GNU GPL'd, by Julian Seward et al.\n",
      "==127071== Using Valgrind-3.18.1 and LibVEX; rerun with -h for copyright info\n",
      "==127071== Command: ./gnl_test\n",
      "==127071== \n",
      "==127071== \n",
      "==127071== HEAP SUMMARY:\n",
      "==127071==     in use at exit: 0 bytes in 0 blocks\n",
      "==127071==   total heap usage: 2 allocs, 2 frees, 4,139 bytes allocated\n",
      "==127071== \n",
      "==127071== All heap blocks were freed -- no leaks are possible\n",
      "==127071== \n",
      "==127071== For lists of detected and suppressed errors, rerun with: -s\n",
      "==127071== ERROR SUMMARY: 0 errors from 0 contexts (suppressed: 0 from 0)\n"
     ]
    }
   ],
   "source": [
    "%%bash\n",
    "cc -Wall -Wextra -Werror -D BUFFER_SIZE=42 gnl_test.c ../gnl_working/get_next_line.c ../gnl_working/get_next_line_utils.c -o gnl_test\n",
    "./gnl_test\n",
    "valgrind --leak-check=full ./gnl_test"
   ]
  },
  {
   "cell_type": "markdown",
   "metadata": {},
   "source": [
    "## ~B~O~N~U~S~"
   ]
  },
  {
   "cell_type": "markdown",
   "metadata": {},
   "source": [
    "- Add bonus material here"
   ]
  },
  {
   "cell_type": "markdown",
   "metadata": {},
   "source": [
    "## Makefile"
   ]
  },
  {
   "cell_type": "markdown",
   "metadata": {},
   "source": [
    "### Makefile"
   ]
  },
  {
   "cell_type": "code",
   "execution_count": 14,
   "metadata": {},
   "outputs": [
    {
     "name": "stdout",
     "output_type": "stream",
     "text": [
      "Overwriting ../gnl_testing/Makefile\n"
     ]
    }
   ],
   "source": [
    "%%file ../gnl_testing/Makefile\n",
    "# **************************************************************************** #\n",
    "#                                                                              #\n",
    "#                                                         :::      ::::::::    #\n",
    "#    Makefile                                           :+:      :+:    :+:    #\n",
    "#                                                     +:+ +:+         +:+      #\n",
    "#    By: dpentlan <dpentlan@student.42.fr>          +#+  +:+       +#+         #\n",
    "#                                                 +#+#+#+#+#+   +#+            #\n",
    "#    Created: 2022/12/01 14:36:56 by dpentlan          #+#    #+#              #\n",
    "#    Updated: 2022/12/01 14:36:58 by dpentlan         ###   ########.fr        #\n",
    "#                                                                              #\n",
    "# **************************************************************************** #\n",
    "\n",
    "# Not needed for get next line. But in case I want to use this later it's here.\n",
    "# Note that is not working yet..\n",
    "\n",
    "NAME = gnl\n",
    "\n",
    "SRCS =\tget_next_line_utils.c \\\n",
    "\tget_next_line.c\n",
    "\n",
    "BONUS_SRCS =\n",
    "\n",
    "OBJS = ${SRCS:.c=.o}\n",
    "\n",
    "BONUS_OBJS = ${BONUS_SRCS:.c=.o}\n",
    "\n",
    "INCS = get_next_line.h\n",
    "\n",
    "CFLAGS = -Wall -Wextra -Werror\n",
    "\n",
    "CC = cc\n",
    "\n",
    "SLIB = ar rcs\n",
    "\n",
    "all: $(NAME)\n",
    "\n",
    "$(NAME): $(OBJS) $(INCS)\n",
    "\t@$(SLIB) $(NAME) -o $(OBJS)\n",
    "\n",
    "bonus: $(OBJS) $(BONUS_OBJS) $(INCS)\n",
    "\t@$(SLIB) $(NAME) -o $(OBJS) $(BONUS_OBJS)\n",
    "\n",
    "%.o: %.c\n",
    "\t@$(CC) ${CFLAGS} -c $< -o ${<:.c=.o}\n",
    "\n",
    "clean:\n",
    "\t@rm -f $(OBJS) $(BONUS_OBJS)\n",
    "\n",
    "fclean:\tclean\n",
    "\t@rm -f $(NAME)\n",
    "\n",
    "re:\tfclean all\n"
   ]
  },
  {
   "cell_type": "markdown",
   "metadata": {},
   "source": [
    "### Build Mandatory"
   ]
  },
  {
   "cell_type": "code",
   "execution_count": null,
   "metadata": {},
   "outputs": [],
   "source": [
    "%%bash\n",
    "cd ../gnl_working\n",
    "# add build commands here"
   ]
  },
  {
   "cell_type": "markdown",
   "metadata": {},
   "source": [
    "## Scratch"
   ]
  },
  {
   "cell_type": "markdown",
   "metadata": {},
   "source": [
    "### File descriptors\n",
    "- I found out after making this that the struct _IO_FILE is included in the standard library and is used to help interaction with files, but it is not used with read, open, write, close, etc. \n",
    "- It is used with fread, fopen, fwrite, and fclose."
   ]
  },
  {
   "cell_type": "code",
   "execution_count": 268,
   "metadata": {},
   "outputs": [
    {
     "name": "stdout",
     "output_type": "stream",
     "text": [
      "Overwriting fd_examine.h\n"
     ]
    }
   ],
   "source": [
    "%%file fd_examine.h\n",
    "#ifndef FD_EXAMINE_H_\n",
    "# define FD_EXAMINE_H_\n",
    "# include <stdio.h>\n",
    "# include <unistd.h>\n",
    "\n",
    "void\tprint_file_struct_properties(char *label, FILE *p_file);\n",
    "\n",
    "#endif"
   ]
  },
  {
   "cell_type": "code",
   "execution_count": 377,
   "metadata": {},
   "outputs": [
    {
     "name": "stdout",
     "output_type": "stream",
     "text": [
      "Overwriting fd_examine.c\n"
     ]
    }
   ],
   "source": [
    "%%file fd_examine.c\n",
    "#include \"fd_examine.h\"\n",
    "\n",
    "void\tprint_file_struct_properties(char *label, FILE *p_file)\n",
    "{\n",
    "\tprintf(\"label,size,member type,member name,member description,value,offset from beginning of struct\\n\");\n",
    "\tprintf(\"whole struct,%ld,,,\\n\", sizeof(*p_file));\n",
    "\tprintf(\"%s,%d,int,_flags,no description,%d,%ld\\n\", label, 8, stdin->_flags, (((unsigned long int) &(stdin->_flags)) - ((unsigned long int) stdin)));\n",
    "\tprintf(\"%s,%d,char *,_IO_read_ptr,Current read pointer,%p,%ld\\n\", label, 8, stdin->_IO_read_ptr, (((unsigned long int) &(stdin->_IO_read_ptr)) - ((unsigned long int) stdin)));\n",
    "\tprintf(\"%s,%d,char *,_IO_read_end,End of get area,%p,%ld\\n\", label, 8, stdin->_IO_read_end, (((unsigned long int) &(stdin->_IO_read_end)) - ((unsigned long int) stdin)));\n",
    "\tprintf(\"%s,%d,char *,_IO_read_base,Start of putback+get area,%p,%ld\\n\", label, 8, stdin->_IO_read_base, (((unsigned long int) &(stdin->_IO_read_base)) - ((unsigned long int) stdin)));\n",
    "\tprintf(\"%s,%d,char *,_IO_write_base,Start of put area,%p,%ld\\n\", label, 8, stdin->_IO_write_base, (((unsigned long int) &(stdin->_IO_write_base)) - ((unsigned long int) stdin)));\n",
    "\tprintf(\"%s,%d,char *,_IO_write_ptr,Current put pointer,%p,%ld\\n\", label, 8, stdin->_IO_write_ptr, (((unsigned long int) &(stdin->_IO_write_ptr)) - ((unsigned long int) stdin)));\n",
    "\tprintf(\"%s,%d,char *,_IO_write_end,End of put area,%p,%ld\\n\", label, 8, stdin->_IO_write_end, (((unsigned long int) &(stdin->_IO_write_end)) - ((unsigned long int) stdin)));\n",
    "\tprintf(\"%s,%d,char *,_IO_buf_base,Start of reserve area,%p,%ld\\n\", label, 8, stdin->_IO_buf_base, (((unsigned long int) &(stdin->_IO_buf_base)) - ((unsigned long int) stdin)));\n",
    "\tprintf(\"%s,%d,char *,_IO_buf_end,End of reserve area,%p,%ld\\n\", label, 8, stdin->_IO_buf_end, (((unsigned long int) &(stdin->_IO_buf_end)) - ((unsigned long int) stdin)));\n",
    "\tprintf(\"%s,%d,char *,_IO_save_base,Pointer to start of non-current get area,%p,%ld\\n\", label, 8, stdin->_IO_save_base, (((unsigned long int) &(stdin->_IO_save_base)) - ((unsigned long int) stdin)));\n",
    "\tprintf(\"%s,%d,char *,_IO_backup_base,Pointer to first valid character of backup area,%p,%ld\\n\", label, 8, stdin->_IO_backup_base, (((unsigned long int) &(stdin->_IO_backup_base)) - ((unsigned long int) stdin)));\n",
    "\tprintf(\"%s,%d,char *,_IO_save_end,Pointer to end of non-current get area,%p,%ld\\n\", label, 8, stdin->_IO_save_end, (((unsigned long int) &(stdin->_IO_save_end)) - ((unsigned long int) stdin)));\n",
    "\tprintf(\"%s,%d,struct _IO_marker *,_markers,no description,%p,%ld\\n\", label, 8, stdin->_markers, (((unsigned long int) &(stdin->_markers)) - ((unsigned long int) stdin)));\n",
    "\tprintf(\"%s,%d,struct _IO_FILE *,_chain,no description,%p,%ld\\n\", label, 8, stdin->_chain, (((unsigned long int) &(stdin->_chain)) - ((unsigned long int) stdin)));\n",
    "\tprintf(\"%s,%d,int,_fileno,no description,%d,%ld\\n\", label, 4, stdin->_fileno, (((unsigned long int) &(stdin->_fileno)) - ((unsigned long int) stdin)));\n",
    "\t//printf(\"%s,%d,int,_blksize,no description,%d,%ld\\n\", label, 4, stdin->_blksize, (((unsigned long int) &(stdin->_blksize)) - ((unsigned long int) stdin)));\n",
    "\tprintf(\"%s,%d,int,_flags2,no description,%d,%ld\\n\", label, 4, stdin->_flags2, (((unsigned long int) &(stdin->_flags2)) - ((unsigned long int) stdin)));\n",
    "\tprintf(\"%s,%d,_IO_off_t,_old_offset,This used to be _offset but it's too small,%ld,%ld\\n\", label, 8, stdin->_old_offset, (((unsigned long int) &(stdin->_old_offset)) - ((unsigned long int) stdin)));\n",
    "\tprintf(\"%s,%d,unsigned short,_cur_column,no description,%d,%ld\\n\", label, 2, stdin->_cur_column, (((unsigned long int) &(stdin->_cur_column)) - ((unsigned long int) stdin)));\n",
    "\tprintf(\"%s,%d,signed char,_vtable_offset,no description,%d,%ld\\n\", label, 8, stdin->_vtable_offset, (((unsigned long int) &(stdin->_vtable_offset)) - ((unsigned long int) stdin)));\n",
    "\tprintf(\"%s,%d,char,_shortbuf,no description,%s,%ld\\n\", label, 8, stdin->_shortbuf, (((unsigned long int) &(stdin->_shortbuf)) - ((unsigned long int) stdin)));\n",
    "\tprintf(\"%s,%d,_IO_lock_t *,_lock,no description,%p,%ld\\n\", label, 8, stdin->_lock, (((unsigned long int) &(stdin->_lock)) - ((unsigned long int) stdin)));\n",
    "\n",
    "\treturn ;\n",
    "}"
   ]
  },
  {
   "cell_type": "code",
   "execution_count": 380,
   "metadata": {},
   "outputs": [
    {
     "name": "stdout",
     "output_type": "stream",
     "text": [
      "Overwriting fd_test.c\n"
     ]
    }
   ],
   "source": [
    "%%file fd_test.c\n",
    "#include <stdio.h>\n",
    "#include <unistd.h>\n",
    "#include \"fd_examine.h\"\n",
    "\n",
    "int main (void)\n",
    "{\n",
    "\t//printf(\"i/o    :descriptor\\tpointer\\t\\t\\n\");\n",
    "\t//printf(\"stdin  :%d\\t\\t%p\\n\", STDIN_FILENO, stdin);\n",
    "\t//printf(\"stdout :%d\\t\\t%p\\n\", STDOUT_FILENO, stdout);\n",
    "\t// printf(\"stderr :%d\\t\\t%p\\n\", STDERR_FILENO, stderr);\n",
    "\n",
    "\tprint_file_struct_properties(\"stdin\", stdin);\n",
    "\t//print_file_struct_properties(\"stdout\", stdout);\n",
    "\t//print_file_struct_properties(\"stderr\", stderr);\n",
    "\n",
    "\treturn (0);\n",
    "}"
   ]
  },
  {
   "cell_type": "code",
   "execution_count": 384,
   "metadata": {},
   "outputs": [],
   "source": [
    "%%bash\n",
    "gcc fd_test.c fd_examine.c\n",
    "./a.out > output.csv"
   ]
  }
 ],
 "metadata": {
  "kernelspec": {
   "display_name": "Python 3.9.13",
   "language": "python",
   "name": "python3"
  },
  "language_info": {
   "codemirror_mode": {
    "name": "ipython",
    "version": 3
   },
   "file_extension": ".py",
   "mimetype": "text/x-python",
   "name": "python",
   "nbconvert_exporter": "python",
   "pygments_lexer": "ipython3",
   "version": "3.9.13"
  },
  "orig_nbformat": 4,
  "vscode": {
   "interpreter": {
    "hash": "35159eb0463b8d05d6ebfa33c61ec94116d03e3b5624b7d5f509435ae71b39b3"
   }
  }
 },
 "nbformat": 4,
 "nbformat_minor": 2
}
